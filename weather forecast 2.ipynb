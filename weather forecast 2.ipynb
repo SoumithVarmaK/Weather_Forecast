{
 "cells": [
  {
   "cell_type": "code",
   "execution_count": 1,
   "id": "38d65729",
   "metadata": {
    "_cell_guid": "b1076dfc-b9ad-4769-8c92-a6c4dae69d19",
    "_uuid": "8f2839f25d086af736a60e9eeb907d3b93b6e0e5",
    "execution": {
     "iopub.execute_input": "2022-01-26T13:58:31.452411Z",
     "iopub.status.busy": "2022-01-26T13:58:31.451254Z",
     "iopub.status.idle": "2022-01-26T13:58:31.472266Z",
     "shell.execute_reply": "2022-01-26T13:58:31.471470Z",
     "shell.execute_reply.started": "2022-01-26T13:38:14.351394Z"
    },
    "papermill": {
     "duration": 0.064671,
     "end_time": "2022-01-26T13:58:31.472443",
     "exception": false,
     "start_time": "2022-01-26T13:58:31.407772",
     "status": "completed"
    },
    "tags": []
   },
   "outputs": [
    {
     "name": "stdout",
     "output_type": "stream",
     "text": [
      "/kaggle/input/weather-dataset/weatherHistory.csv\n"
     ]
    }
   ],
   "source": [
    "# This Python 3 environment comes with many helpful analytics libraries installed\n",
    "# It is defined by the kaggle/python Docker image: https://github.com/kaggle/docker-python\n",
    "# For example, here's several helpful packages to load\n",
    "\n",
    "import numpy as np # linear algebra\n",
    "import pandas as pd # data processing, CSV file I/O (e.g. pd.read_csv)\n",
    "\n",
    "# Input data files are available in the read-only \"../input/\" directory\n",
    "# For example, running this (by clicking run or pressing Shift+Enter) will list all files under the input directory\n",
    "\n",
    "import os\n",
    "for dirname, _, filenames in os.walk('/kaggle/input'):\n",
    "    for filename in filenames:\n",
    "        print(os.path.join(dirname, filename))\n",
    "\n",
    "# You can write up to 20GB to the current directory (/kaggle/working/) that gets preserved as output when you create a version using \"Save & Run All\" \n",
    "# You can also write temporary files to /kaggle/temp/, but they won't be saved outside of the current session"
   ]
  },
  {
   "cell_type": "markdown",
   "id": "783fb9be",
   "metadata": {
    "papermill": {
     "duration": 0.028516,
     "end_time": "2022-01-26T13:58:31.530758",
     "exception": false,
     "start_time": "2022-01-26T13:58:31.502242",
     "status": "completed"
    },
    "tags": []
   },
   "source": [
    "# Load Dataset"
   ]
  },
  {
   "cell_type": "code",
   "execution_count": 2,
   "id": "e07e866b",
   "metadata": {
    "execution": {
     "iopub.execute_input": "2022-01-26T13:58:31.596118Z",
     "iopub.status.busy": "2022-01-26T13:58:31.595290Z",
     "iopub.status.idle": "2022-01-26T13:58:32.163281Z",
     "shell.execute_reply": "2022-01-26T13:58:32.162709Z",
     "shell.execute_reply.started": "2022-01-26T13:38:14.901281Z"
    },
    "papermill": {
     "duration": 0.602806,
     "end_time": "2022-01-26T13:58:32.163442",
     "exception": false,
     "start_time": "2022-01-26T13:58:31.560636",
     "status": "completed"
    },
    "tags": []
   },
   "outputs": [
    {
     "data": {
      "text/html": [
       "<div>\n",
       "<style scoped>\n",
       "    .dataframe tbody tr th:only-of-type {\n",
       "        vertical-align: middle;\n",
       "    }\n",
       "\n",
       "    .dataframe tbody tr th {\n",
       "        vertical-align: top;\n",
       "    }\n",
       "\n",
       "    .dataframe thead th {\n",
       "        text-align: right;\n",
       "    }\n",
       "</style>\n",
       "<table border=\"1\" class=\"dataframe\">\n",
       "  <thead>\n",
       "    <tr style=\"text-align: right;\">\n",
       "      <th></th>\n",
       "      <th>Formatted Date</th>\n",
       "      <th>Summary</th>\n",
       "      <th>Precip Type</th>\n",
       "      <th>Temperature (C)</th>\n",
       "      <th>Apparent Temperature (C)</th>\n",
       "      <th>Humidity</th>\n",
       "      <th>Wind Speed (km/h)</th>\n",
       "      <th>Wind Bearing (degrees)</th>\n",
       "      <th>Visibility (km)</th>\n",
       "      <th>Loud Cover</th>\n",
       "      <th>Pressure (millibars)</th>\n",
       "      <th>Daily Summary</th>\n",
       "    </tr>\n",
       "  </thead>\n",
       "  <tbody>\n",
       "    <tr>\n",
       "      <th>0</th>\n",
       "      <td>2006-04-01 00:00:00.000 +0200</td>\n",
       "      <td>Partly Cloudy</td>\n",
       "      <td>rain</td>\n",
       "      <td>9.472222</td>\n",
       "      <td>7.388889</td>\n",
       "      <td>0.89</td>\n",
       "      <td>14.1197</td>\n",
       "      <td>251.0</td>\n",
       "      <td>15.8263</td>\n",
       "      <td>0.0</td>\n",
       "      <td>1015.13</td>\n",
       "      <td>Partly cloudy throughout the day.</td>\n",
       "    </tr>\n",
       "    <tr>\n",
       "      <th>1</th>\n",
       "      <td>2006-04-01 01:00:00.000 +0200</td>\n",
       "      <td>Partly Cloudy</td>\n",
       "      <td>rain</td>\n",
       "      <td>9.355556</td>\n",
       "      <td>7.227778</td>\n",
       "      <td>0.86</td>\n",
       "      <td>14.2646</td>\n",
       "      <td>259.0</td>\n",
       "      <td>15.8263</td>\n",
       "      <td>0.0</td>\n",
       "      <td>1015.63</td>\n",
       "      <td>Partly cloudy throughout the day.</td>\n",
       "    </tr>\n",
       "    <tr>\n",
       "      <th>2</th>\n",
       "      <td>2006-04-01 02:00:00.000 +0200</td>\n",
       "      <td>Mostly Cloudy</td>\n",
       "      <td>rain</td>\n",
       "      <td>9.377778</td>\n",
       "      <td>9.377778</td>\n",
       "      <td>0.89</td>\n",
       "      <td>3.9284</td>\n",
       "      <td>204.0</td>\n",
       "      <td>14.9569</td>\n",
       "      <td>0.0</td>\n",
       "      <td>1015.94</td>\n",
       "      <td>Partly cloudy throughout the day.</td>\n",
       "    </tr>\n",
       "    <tr>\n",
       "      <th>3</th>\n",
       "      <td>2006-04-01 03:00:00.000 +0200</td>\n",
       "      <td>Partly Cloudy</td>\n",
       "      <td>rain</td>\n",
       "      <td>8.288889</td>\n",
       "      <td>5.944444</td>\n",
       "      <td>0.83</td>\n",
       "      <td>14.1036</td>\n",
       "      <td>269.0</td>\n",
       "      <td>15.8263</td>\n",
       "      <td>0.0</td>\n",
       "      <td>1016.41</td>\n",
       "      <td>Partly cloudy throughout the day.</td>\n",
       "    </tr>\n",
       "    <tr>\n",
       "      <th>4</th>\n",
       "      <td>2006-04-01 04:00:00.000 +0200</td>\n",
       "      <td>Mostly Cloudy</td>\n",
       "      <td>rain</td>\n",
       "      <td>8.755556</td>\n",
       "      <td>6.977778</td>\n",
       "      <td>0.83</td>\n",
       "      <td>11.0446</td>\n",
       "      <td>259.0</td>\n",
       "      <td>15.8263</td>\n",
       "      <td>0.0</td>\n",
       "      <td>1016.51</td>\n",
       "      <td>Partly cloudy throughout the day.</td>\n",
       "    </tr>\n",
       "  </tbody>\n",
       "</table>\n",
       "</div>"
      ],
      "text/plain": [
       "                  Formatted Date        Summary Precip Type  Temperature (C)  \\\n",
       "0  2006-04-01 00:00:00.000 +0200  Partly Cloudy        rain         9.472222   \n",
       "1  2006-04-01 01:00:00.000 +0200  Partly Cloudy        rain         9.355556   \n",
       "2  2006-04-01 02:00:00.000 +0200  Mostly Cloudy        rain         9.377778   \n",
       "3  2006-04-01 03:00:00.000 +0200  Partly Cloudy        rain         8.288889   \n",
       "4  2006-04-01 04:00:00.000 +0200  Mostly Cloudy        rain         8.755556   \n",
       "\n",
       "   Apparent Temperature (C)  Humidity  Wind Speed (km/h)  \\\n",
       "0                  7.388889      0.89            14.1197   \n",
       "1                  7.227778      0.86            14.2646   \n",
       "2                  9.377778      0.89             3.9284   \n",
       "3                  5.944444      0.83            14.1036   \n",
       "4                  6.977778      0.83            11.0446   \n",
       "\n",
       "   Wind Bearing (degrees)  Visibility (km)  Loud Cover  Pressure (millibars)  \\\n",
       "0                   251.0          15.8263         0.0               1015.13   \n",
       "1                   259.0          15.8263         0.0               1015.63   \n",
       "2                   204.0          14.9569         0.0               1015.94   \n",
       "3                   269.0          15.8263         0.0               1016.41   \n",
       "4                   259.0          15.8263         0.0               1016.51   \n",
       "\n",
       "                       Daily Summary  \n",
       "0  Partly cloudy throughout the day.  \n",
       "1  Partly cloudy throughout the day.  \n",
       "2  Partly cloudy throughout the day.  \n",
       "3  Partly cloudy throughout the day.  \n",
       "4  Partly cloudy throughout the day.  "
      ]
     },
     "execution_count": 2,
     "metadata": {},
     "output_type": "execute_result"
    }
   ],
   "source": [
    "import numpy as np\n",
    "import pandas as pd\n",
    "\n",
    "df = pd.read_csv('../input/weather-dataset/weatherHistory.csv')\n",
    "df.head()"
   ]
  },
  {
   "cell_type": "code",
   "execution_count": 3,
   "id": "639d64af",
   "metadata": {
    "execution": {
     "iopub.execute_input": "2022-01-26T13:58:32.229352Z",
     "iopub.status.busy": "2022-01-26T13:58:32.228397Z",
     "iopub.status.idle": "2022-01-26T13:58:32.231524Z",
     "shell.execute_reply": "2022-01-26T13:58:32.232056Z",
     "shell.execute_reply.started": "2022-01-26T13:38:15.166065Z"
    },
    "papermill": {
     "duration": 0.038707,
     "end_time": "2022-01-26T13:58:32.232264",
     "exception": false,
     "start_time": "2022-01-26T13:58:32.193557",
     "status": "completed"
    },
    "tags": []
   },
   "outputs": [
    {
     "data": {
      "text/plain": [
       "(96453, 12)"
      ]
     },
     "execution_count": 3,
     "metadata": {},
     "output_type": "execute_result"
    }
   ],
   "source": [
    "df.shape"
   ]
  },
  {
   "cell_type": "markdown",
   "id": "7525aecc",
   "metadata": {
    "papermill": {
     "duration": 0.030276,
     "end_time": "2022-01-26T13:58:32.293515",
     "exception": false,
     "start_time": "2022-01-26T13:58:32.263239",
     "status": "completed"
    },
    "tags": []
   },
   "source": []
  },
  {
   "cell_type": "markdown",
   "id": "3765e1df",
   "metadata": {
    "papermill": {
     "duration": 0.029819,
     "end_time": "2022-01-26T13:58:32.354331",
     "exception": false,
     "start_time": "2022-01-26T13:58:32.324512",
     "status": "completed"
    },
    "tags": []
   },
   "source": [
    "# Exploratory Data Analysis\n",
    "\n",
    "Remove variables which do not have much impact on the prediction. \n",
    "Calculate the value of loud cover: it is same for all rows, so I can remove it.\n"
   ]
  },
  {
   "cell_type": "code",
   "execution_count": 4,
   "id": "5ab65ce1",
   "metadata": {
    "execution": {
     "iopub.execute_input": "2022-01-26T13:58:32.433206Z",
     "iopub.status.busy": "2022-01-26T13:58:32.432235Z",
     "iopub.status.idle": "2022-01-26T13:58:32.436645Z",
     "shell.execute_reply": "2022-01-26T13:58:32.436000Z",
     "shell.execute_reply.started": "2022-01-26T13:38:15.989725Z"
    },
    "papermill": {
     "duration": 0.051652,
     "end_time": "2022-01-26T13:58:32.436789",
     "exception": false,
     "start_time": "2022-01-26T13:58:32.385137",
     "status": "completed"
    },
    "tags": []
   },
   "outputs": [
    {
     "data": {
      "text/plain": [
       "0.0    96453\n",
       "Name: Loud Cover, dtype: int64"
      ]
     },
     "execution_count": 4,
     "metadata": {},
     "output_type": "execute_result"
    }
   ],
   "source": [
    "df['Loud Cover'].value_counts()"
   ]
  },
  {
   "cell_type": "markdown",
   "id": "516dbcd1",
   "metadata": {
    "papermill": {
     "duration": 0.029995,
     "end_time": "2022-01-26T13:58:32.496935",
     "exception": false,
     "start_time": "2022-01-26T13:58:32.466940",
     "status": "completed"
    },
    "tags": []
   },
   "source": [
    "I also remove Daily Summary, since it is text"
   ]
  },
  {
   "cell_type": "code",
   "execution_count": 5,
   "id": "72c2e805",
   "metadata": {
    "execution": {
     "iopub.execute_input": "2022-01-26T13:58:32.579576Z",
     "iopub.status.busy": "2022-01-26T13:58:32.578897Z",
     "iopub.status.idle": "2022-01-26T13:58:32.582771Z",
     "shell.execute_reply": "2022-01-26T13:58:32.583286Z",
     "shell.execute_reply.started": "2022-01-26T13:38:17.861233Z"
    },
    "papermill": {
     "duration": 0.056263,
     "end_time": "2022-01-26T13:58:32.583466",
     "exception": false,
     "start_time": "2022-01-26T13:58:32.527203",
     "status": "completed"
    },
    "tags": []
   },
   "outputs": [
    {
     "data": {
      "text/plain": [
       "Mostly cloudy throughout the day.                                                                       20085\n",
       "Partly cloudy throughout the day.                                                                        9981\n",
       "Partly cloudy until night.                                                                               6169\n",
       "Partly cloudy starting in the morning.                                                                   5184\n",
       "Foggy in the morning.                                                                                    4201\n",
       "                                                                                                        ...  \n",
       "Breezy starting overnight continuing until morning and foggy overnight.                                    24\n",
       "Mostly cloudy throughout the day and breezy starting overnight continuing until afternoon.                 24\n",
       "Partly cloudy starting in the morning and breezy starting in the afternoon continuing until evening.       24\n",
       "Rain until afternoon.                                                                                      24\n",
       "Foggy starting overnight continuing until morning and breezy in the afternoon.                             23\n",
       "Name: Daily Summary, Length: 214, dtype: int64"
      ]
     },
     "execution_count": 5,
     "metadata": {},
     "output_type": "execute_result"
    }
   ],
   "source": [
    "df['Daily Summary'].value_counts()"
   ]
  },
  {
   "cell_type": "code",
   "execution_count": 6,
   "id": "3425824a",
   "metadata": {
    "execution": {
     "iopub.execute_input": "2022-01-26T13:58:32.661514Z",
     "iopub.status.busy": "2022-01-26T13:58:32.660795Z",
     "iopub.status.idle": "2022-01-26T13:58:32.664393Z",
     "shell.execute_reply": "2022-01-26T13:58:32.663679Z",
     "shell.execute_reply.started": "2022-01-26T13:38:17.874978Z"
    },
    "papermill": {
     "duration": 0.05053,
     "end_time": "2022-01-26T13:58:32.664541",
     "exception": false,
     "start_time": "2022-01-26T13:58:32.614011",
     "status": "completed"
    },
    "tags": []
   },
   "outputs": [],
   "source": [
    "df.drop(['Daily Summary','Loud Cover'],axis=1,inplace=True)"
   ]
  },
  {
   "cell_type": "code",
   "execution_count": 7,
   "id": "031f7c54",
   "metadata": {
    "execution": {
     "iopub.execute_input": "2022-01-26T13:58:32.743639Z",
     "iopub.status.busy": "2022-01-26T13:58:32.742978Z",
     "iopub.status.idle": "2022-01-26T13:58:32.746911Z",
     "shell.execute_reply": "2022-01-26T13:58:32.746270Z",
     "shell.execute_reply.started": "2022-01-26T13:38:17.911110Z"
    },
    "papermill": {
     "duration": 0.051785,
     "end_time": "2022-01-26T13:58:32.747056",
     "exception": false,
     "start_time": "2022-01-26T13:58:32.695271",
     "status": "completed"
    },
    "tags": []
   },
   "outputs": [
    {
     "data": {
      "text/html": [
       "<div>\n",
       "<style scoped>\n",
       "    .dataframe tbody tr th:only-of-type {\n",
       "        vertical-align: middle;\n",
       "    }\n",
       "\n",
       "    .dataframe tbody tr th {\n",
       "        vertical-align: top;\n",
       "    }\n",
       "\n",
       "    .dataframe thead th {\n",
       "        text-align: right;\n",
       "    }\n",
       "</style>\n",
       "<table border=\"1\" class=\"dataframe\">\n",
       "  <thead>\n",
       "    <tr style=\"text-align: right;\">\n",
       "      <th></th>\n",
       "      <th>Formatted Date</th>\n",
       "      <th>Summary</th>\n",
       "      <th>Precip Type</th>\n",
       "      <th>Temperature (C)</th>\n",
       "      <th>Apparent Temperature (C)</th>\n",
       "      <th>Humidity</th>\n",
       "      <th>Wind Speed (km/h)</th>\n",
       "      <th>Wind Bearing (degrees)</th>\n",
       "      <th>Visibility (km)</th>\n",
       "      <th>Pressure (millibars)</th>\n",
       "    </tr>\n",
       "  </thead>\n",
       "  <tbody>\n",
       "    <tr>\n",
       "      <th>0</th>\n",
       "      <td>2006-04-01 00:00:00.000 +0200</td>\n",
       "      <td>Partly Cloudy</td>\n",
       "      <td>rain</td>\n",
       "      <td>9.472222</td>\n",
       "      <td>7.388889</td>\n",
       "      <td>0.89</td>\n",
       "      <td>14.1197</td>\n",
       "      <td>251.0</td>\n",
       "      <td>15.8263</td>\n",
       "      <td>1015.13</td>\n",
       "    </tr>\n",
       "    <tr>\n",
       "      <th>1</th>\n",
       "      <td>2006-04-01 01:00:00.000 +0200</td>\n",
       "      <td>Partly Cloudy</td>\n",
       "      <td>rain</td>\n",
       "      <td>9.355556</td>\n",
       "      <td>7.227778</td>\n",
       "      <td>0.86</td>\n",
       "      <td>14.2646</td>\n",
       "      <td>259.0</td>\n",
       "      <td>15.8263</td>\n",
       "      <td>1015.63</td>\n",
       "    </tr>\n",
       "    <tr>\n",
       "      <th>2</th>\n",
       "      <td>2006-04-01 02:00:00.000 +0200</td>\n",
       "      <td>Mostly Cloudy</td>\n",
       "      <td>rain</td>\n",
       "      <td>9.377778</td>\n",
       "      <td>9.377778</td>\n",
       "      <td>0.89</td>\n",
       "      <td>3.9284</td>\n",
       "      <td>204.0</td>\n",
       "      <td>14.9569</td>\n",
       "      <td>1015.94</td>\n",
       "    </tr>\n",
       "    <tr>\n",
       "      <th>3</th>\n",
       "      <td>2006-04-01 03:00:00.000 +0200</td>\n",
       "      <td>Partly Cloudy</td>\n",
       "      <td>rain</td>\n",
       "      <td>8.288889</td>\n",
       "      <td>5.944444</td>\n",
       "      <td>0.83</td>\n",
       "      <td>14.1036</td>\n",
       "      <td>269.0</td>\n",
       "      <td>15.8263</td>\n",
       "      <td>1016.41</td>\n",
       "    </tr>\n",
       "    <tr>\n",
       "      <th>4</th>\n",
       "      <td>2006-04-01 04:00:00.000 +0200</td>\n",
       "      <td>Mostly Cloudy</td>\n",
       "      <td>rain</td>\n",
       "      <td>8.755556</td>\n",
       "      <td>6.977778</td>\n",
       "      <td>0.83</td>\n",
       "      <td>11.0446</td>\n",
       "      <td>259.0</td>\n",
       "      <td>15.8263</td>\n",
       "      <td>1016.51</td>\n",
       "    </tr>\n",
       "  </tbody>\n",
       "</table>\n",
       "</div>"
      ],
      "text/plain": [
       "                  Formatted Date        Summary Precip Type  Temperature (C)  \\\n",
       "0  2006-04-01 00:00:00.000 +0200  Partly Cloudy        rain         9.472222   \n",
       "1  2006-04-01 01:00:00.000 +0200  Partly Cloudy        rain         9.355556   \n",
       "2  2006-04-01 02:00:00.000 +0200  Mostly Cloudy        rain         9.377778   \n",
       "3  2006-04-01 03:00:00.000 +0200  Partly Cloudy        rain         8.288889   \n",
       "4  2006-04-01 04:00:00.000 +0200  Mostly Cloudy        rain         8.755556   \n",
       "\n",
       "   Apparent Temperature (C)  Humidity  Wind Speed (km/h)  \\\n",
       "0                  7.388889      0.89            14.1197   \n",
       "1                  7.227778      0.86            14.2646   \n",
       "2                  9.377778      0.89             3.9284   \n",
       "3                  5.944444      0.83            14.1036   \n",
       "4                  6.977778      0.83            11.0446   \n",
       "\n",
       "   Wind Bearing (degrees)  Visibility (km)  Pressure (millibars)  \n",
       "0                   251.0          15.8263               1015.13  \n",
       "1                   259.0          15.8263               1015.63  \n",
       "2                   204.0          14.9569               1015.94  \n",
       "3                   269.0          15.8263               1016.41  \n",
       "4                   259.0          15.8263               1016.51  "
      ]
     },
     "execution_count": 7,
     "metadata": {},
     "output_type": "execute_result"
    }
   ],
   "source": [
    "df.head()"
   ]
  },
  {
   "cell_type": "markdown",
   "id": "57905fd4",
   "metadata": {
    "papermill": {
     "duration": 0.032366,
     "end_time": "2022-01-26T13:58:32.811557",
     "exception": false,
     "start_time": "2022-01-26T13:58:32.779191",
     "status": "completed"
    },
    "tags": []
   },
   "source": [
    "Check Null values"
   ]
  },
  {
   "cell_type": "code",
   "execution_count": 8,
   "id": "2884ec7f",
   "metadata": {
    "execution": {
     "iopub.execute_input": "2022-01-26T13:58:32.913015Z",
     "iopub.status.busy": "2022-01-26T13:58:32.912347Z",
     "iopub.status.idle": "2022-01-26T13:58:32.922563Z",
     "shell.execute_reply": "2022-01-26T13:58:32.922051Z",
     "shell.execute_reply.started": "2022-01-26T13:38:17.954382Z"
    },
    "papermill": {
     "duration": 0.079699,
     "end_time": "2022-01-26T13:58:32.922703",
     "exception": false,
     "start_time": "2022-01-26T13:58:32.843004",
     "status": "completed"
    },
    "tags": []
   },
   "outputs": [
    {
     "data": {
      "text/plain": [
       "Formatted Date                0\n",
       "Summary                       0\n",
       "Precip Type                 517\n",
       "Temperature (C)               0\n",
       "Apparent Temperature (C)      0\n",
       "Humidity                      0\n",
       "Wind Speed (km/h)             0\n",
       "Wind Bearing (degrees)        0\n",
       "Visibility (km)               0\n",
       "Pressure (millibars)          0\n",
       "dtype: int64"
      ]
     },
     "execution_count": 8,
     "metadata": {},
     "output_type": "execute_result"
    }
   ],
   "source": [
    "df.isnull().sum()"
   ]
  },
  {
   "cell_type": "markdown",
   "id": "0dc27ce2",
   "metadata": {
    "papermill": {
     "duration": 0.031409,
     "end_time": "2022-01-26T13:58:32.985953",
     "exception": false,
     "start_time": "2022-01-26T13:58:32.954544",
     "status": "completed"
    },
    "tags": []
   },
   "source": [
    "I will use the precip type column as output of the dataset. "
   ]
  },
  {
   "cell_type": "code",
   "execution_count": 9,
   "id": "b4c806e0",
   "metadata": {
    "execution": {
     "iopub.execute_input": "2022-01-26T13:58:33.070770Z",
     "iopub.status.busy": "2022-01-26T13:58:33.067992Z",
     "iopub.status.idle": "2022-01-26T13:58:33.075904Z",
     "shell.execute_reply": "2022-01-26T13:58:33.075320Z",
     "shell.execute_reply.started": "2022-01-26T13:38:18.726046Z"
    },
    "papermill": {
     "duration": 0.058555,
     "end_time": "2022-01-26T13:58:33.076045",
     "exception": false,
     "start_time": "2022-01-26T13:58:33.017490",
     "status": "completed"
    },
    "tags": []
   },
   "outputs": [
    {
     "data": {
      "text/plain": [
       "rain    85224\n",
       "snow    10712\n",
       "Name: Precip Type, dtype: int64"
      ]
     },
     "execution_count": 9,
     "metadata": {},
     "output_type": "execute_result"
    }
   ],
   "source": [
    "df['Precip Type'].value_counts()"
   ]
  },
  {
   "cell_type": "markdown",
   "id": "fccb719d",
   "metadata": {
    "papermill": {
     "duration": 0.0318,
     "end_time": "2022-01-26T13:58:33.140235",
     "exception": false,
     "start_time": "2022-01-26T13:58:33.108435",
     "status": "completed"
    },
    "tags": []
   },
   "source": [
    "Drop Null values"
   ]
  },
  {
   "cell_type": "code",
   "execution_count": 10,
   "id": "0b6ddb27",
   "metadata": {
    "execution": {
     "iopub.execute_input": "2022-01-26T13:58:33.244973Z",
     "iopub.status.busy": "2022-01-26T13:58:33.243740Z",
     "iopub.status.idle": "2022-01-26T13:58:33.263414Z",
     "shell.execute_reply": "2022-01-26T13:58:33.263947Z",
     "shell.execute_reply.started": "2022-01-26T13:38:19.482987Z"
    },
    "papermill": {
     "duration": 0.091958,
     "end_time": "2022-01-26T13:58:33.264119",
     "exception": false,
     "start_time": "2022-01-26T13:58:33.172161",
     "status": "completed"
    },
    "tags": []
   },
   "outputs": [
    {
     "data": {
      "text/plain": [
       "(95936, 10)"
      ]
     },
     "execution_count": 10,
     "metadata": {},
     "output_type": "execute_result"
    }
   ],
   "source": [
    "df.dropna(inplace=True)\n",
    "df.shape"
   ]
  },
  {
   "cell_type": "markdown",
   "id": "f6dde607",
   "metadata": {
    "papermill": {
     "duration": 0.032451,
     "end_time": "2022-01-26T13:58:33.329242",
     "exception": false,
     "start_time": "2022-01-26T13:58:33.296791",
     "status": "completed"
    },
    "tags": []
   },
   "source": [
    "# Data Cleaning\n",
    "\n",
    "Convert categorical data into numerical data"
   ]
  },
  {
   "cell_type": "code",
   "execution_count": 11,
   "id": "d9d81711",
   "metadata": {
    "execution": {
     "iopub.execute_input": "2022-01-26T13:58:33.399427Z",
     "iopub.status.busy": "2022-01-26T13:58:33.398717Z",
     "iopub.status.idle": "2022-01-26T13:58:34.381155Z",
     "shell.execute_reply": "2022-01-26T13:58:34.380393Z",
     "shell.execute_reply.started": "2022-01-26T13:38:20.489327Z"
    },
    "papermill": {
     "duration": 1.020068,
     "end_time": "2022-01-26T13:58:34.381313",
     "exception": false,
     "start_time": "2022-01-26T13:58:33.361245",
     "status": "completed"
    },
    "tags": []
   },
   "outputs": [
    {
     "data": {
      "text/html": [
       "<div>\n",
       "<style scoped>\n",
       "    .dataframe tbody tr th:only-of-type {\n",
       "        vertical-align: middle;\n",
       "    }\n",
       "\n",
       "    .dataframe tbody tr th {\n",
       "        vertical-align: top;\n",
       "    }\n",
       "\n",
       "    .dataframe thead th {\n",
       "        text-align: right;\n",
       "    }\n",
       "</style>\n",
       "<table border=\"1\" class=\"dataframe\">\n",
       "  <thead>\n",
       "    <tr style=\"text-align: right;\">\n",
       "      <th></th>\n",
       "      <th>Formatted Date</th>\n",
       "      <th>Summary</th>\n",
       "      <th>Precip Type</th>\n",
       "      <th>Temperature (C)</th>\n",
       "      <th>Apparent Temperature (C)</th>\n",
       "      <th>Humidity</th>\n",
       "      <th>Wind Speed (km/h)</th>\n",
       "      <th>Wind Bearing (degrees)</th>\n",
       "      <th>Visibility (km)</th>\n",
       "      <th>Pressure (millibars)</th>\n",
       "    </tr>\n",
       "  </thead>\n",
       "  <tbody>\n",
       "    <tr>\n",
       "      <th>0</th>\n",
       "      <td>2006-04-01 00:00:00.000 +0200</td>\n",
       "      <td>19</td>\n",
       "      <td>0</td>\n",
       "      <td>9.472222</td>\n",
       "      <td>7.388889</td>\n",
       "      <td>0.89</td>\n",
       "      <td>14.1197</td>\n",
       "      <td>251.0</td>\n",
       "      <td>15.8263</td>\n",
       "      <td>1015.13</td>\n",
       "    </tr>\n",
       "    <tr>\n",
       "      <th>1</th>\n",
       "      <td>2006-04-01 01:00:00.000 +0200</td>\n",
       "      <td>19</td>\n",
       "      <td>0</td>\n",
       "      <td>9.355556</td>\n",
       "      <td>7.227778</td>\n",
       "      <td>0.86</td>\n",
       "      <td>14.2646</td>\n",
       "      <td>259.0</td>\n",
       "      <td>15.8263</td>\n",
       "      <td>1015.63</td>\n",
       "    </tr>\n",
       "    <tr>\n",
       "      <th>2</th>\n",
       "      <td>2006-04-01 02:00:00.000 +0200</td>\n",
       "      <td>17</td>\n",
       "      <td>0</td>\n",
       "      <td>9.377778</td>\n",
       "      <td>9.377778</td>\n",
       "      <td>0.89</td>\n",
       "      <td>3.9284</td>\n",
       "      <td>204.0</td>\n",
       "      <td>14.9569</td>\n",
       "      <td>1015.94</td>\n",
       "    </tr>\n",
       "    <tr>\n",
       "      <th>3</th>\n",
       "      <td>2006-04-01 03:00:00.000 +0200</td>\n",
       "      <td>19</td>\n",
       "      <td>0</td>\n",
       "      <td>8.288889</td>\n",
       "      <td>5.944444</td>\n",
       "      <td>0.83</td>\n",
       "      <td>14.1036</td>\n",
       "      <td>269.0</td>\n",
       "      <td>15.8263</td>\n",
       "      <td>1016.41</td>\n",
       "    </tr>\n",
       "    <tr>\n",
       "      <th>4</th>\n",
       "      <td>2006-04-01 04:00:00.000 +0200</td>\n",
       "      <td>17</td>\n",
       "      <td>0</td>\n",
       "      <td>8.755556</td>\n",
       "      <td>6.977778</td>\n",
       "      <td>0.83</td>\n",
       "      <td>11.0446</td>\n",
       "      <td>259.0</td>\n",
       "      <td>15.8263</td>\n",
       "      <td>1016.51</td>\n",
       "    </tr>\n",
       "  </tbody>\n",
       "</table>\n",
       "</div>"
      ],
      "text/plain": [
       "                  Formatted Date  Summary  Precip Type  Temperature (C)  \\\n",
       "0  2006-04-01 00:00:00.000 +0200       19            0         9.472222   \n",
       "1  2006-04-01 01:00:00.000 +0200       19            0         9.355556   \n",
       "2  2006-04-01 02:00:00.000 +0200       17            0         9.377778   \n",
       "3  2006-04-01 03:00:00.000 +0200       19            0         8.288889   \n",
       "4  2006-04-01 04:00:00.000 +0200       17            0         8.755556   \n",
       "\n",
       "   Apparent Temperature (C)  Humidity  Wind Speed (km/h)  \\\n",
       "0                  7.388889      0.89            14.1197   \n",
       "1                  7.227778      0.86            14.2646   \n",
       "2                  9.377778      0.89             3.9284   \n",
       "3                  5.944444      0.83            14.1036   \n",
       "4                  6.977778      0.83            11.0446   \n",
       "\n",
       "   Wind Bearing (degrees)  Visibility (km)  Pressure (millibars)  \n",
       "0                   251.0          15.8263               1015.13  \n",
       "1                   259.0          15.8263               1015.63  \n",
       "2                   204.0          14.9569               1015.94  \n",
       "3                   269.0          15.8263               1016.41  \n",
       "4                   259.0          15.8263               1016.51  "
      ]
     },
     "execution_count": 11,
     "metadata": {},
     "output_type": "execute_result"
    }
   ],
   "source": [
    "from sklearn.preprocessing import LabelEncoder\n",
    "le = LabelEncoder()\n",
    "df['Precip Type']=le.fit_transform(df['Precip Type'])\n",
    "df['Summary']=le.fit_transform(df['Summary'])\n",
    "df.head()\n"
   ]
  },
  {
   "cell_type": "markdown",
   "id": "7ce7addc",
   "metadata": {
    "papermill": {
     "duration": 0.032661,
     "end_time": "2022-01-26T13:58:34.447638",
     "exception": false,
     "start_time": "2022-01-26T13:58:34.414977",
     "status": "completed"
    },
    "tags": []
   },
   "source": [
    "Standardize input features"
   ]
  },
  {
   "cell_type": "code",
   "execution_count": 12,
   "id": "301ab9f4",
   "metadata": {
    "execution": {
     "iopub.execute_input": "2022-01-26T13:58:34.520829Z",
     "iopub.status.busy": "2022-01-26T13:58:34.520183Z",
     "iopub.status.idle": "2022-01-26T13:58:34.580585Z",
     "shell.execute_reply": "2022-01-26T13:58:34.579745Z",
     "shell.execute_reply.started": "2022-01-26T13:38:40.261905Z"
    },
    "papermill": {
     "duration": 0.100254,
     "end_time": "2022-01-26T13:58:34.580775",
     "exception": false,
     "start_time": "2022-01-26T13:58:34.480521",
     "status": "completed"
    },
    "tags": []
   },
   "outputs": [
    {
     "data": {
      "text/html": [
       "<div>\n",
       "<style scoped>\n",
       "    .dataframe tbody tr th:only-of-type {\n",
       "        vertical-align: middle;\n",
       "    }\n",
       "\n",
       "    .dataframe tbody tr th {\n",
       "        vertical-align: top;\n",
       "    }\n",
       "\n",
       "    .dataframe thead th {\n",
       "        text-align: right;\n",
       "    }\n",
       "</style>\n",
       "<table border=\"1\" class=\"dataframe\">\n",
       "  <thead>\n",
       "    <tr style=\"text-align: right;\">\n",
       "      <th></th>\n",
       "      <th>Formatted Date</th>\n",
       "      <th>Summary</th>\n",
       "      <th>Precip Type</th>\n",
       "      <th>Temperature (C)</th>\n",
       "      <th>Apparent Temperature (C)</th>\n",
       "      <th>Humidity</th>\n",
       "      <th>Wind Speed (km/h)</th>\n",
       "      <th>Wind Bearing (degrees)</th>\n",
       "      <th>Visibility (km)</th>\n",
       "      <th>Pressure (millibars)</th>\n",
       "    </tr>\n",
       "  </thead>\n",
       "  <tbody>\n",
       "    <tr>\n",
       "      <th>0</th>\n",
       "      <td>2006-04-01 00:00:00.000 +0200</td>\n",
       "      <td>19</td>\n",
       "      <td>-0.354531</td>\n",
       "      <td>-0.257951</td>\n",
       "      <td>-0.324102</td>\n",
       "      <td>0.792748</td>\n",
       "      <td>0.478964</td>\n",
       "      <td>0.591157</td>\n",
       "      <td>1.309107</td>\n",
       "      <td>0.102152</td>\n",
       "    </tr>\n",
       "    <tr>\n",
       "      <th>1</th>\n",
       "      <td>2006-04-01 01:00:00.000 +0200</td>\n",
       "      <td>19</td>\n",
       "      <td>-0.354531</td>\n",
       "      <td>-0.270141</td>\n",
       "      <td>-0.339134</td>\n",
       "      <td>0.639470</td>\n",
       "      <td>0.499902</td>\n",
       "      <td>0.665655</td>\n",
       "      <td>1.309107</td>\n",
       "      <td>0.106415</td>\n",
       "    </tr>\n",
       "    <tr>\n",
       "      <th>2</th>\n",
       "      <td>2006-04-01 02:00:00.000 +0200</td>\n",
       "      <td>17</td>\n",
       "      <td>-0.354531</td>\n",
       "      <td>-0.267819</td>\n",
       "      <td>-0.138532</td>\n",
       "      <td>0.792748</td>\n",
       "      <td>-0.993620</td>\n",
       "      <td>0.153478</td>\n",
       "      <td>1.100806</td>\n",
       "      <td>0.109058</td>\n",
       "    </tr>\n",
       "    <tr>\n",
       "      <th>3</th>\n",
       "      <td>2006-04-01 03:00:00.000 +0200</td>\n",
       "      <td>19</td>\n",
       "      <td>-0.354531</td>\n",
       "      <td>-0.381594</td>\n",
       "      <td>-0.458873</td>\n",
       "      <td>0.486192</td>\n",
       "      <td>0.476638</td>\n",
       "      <td>0.758778</td>\n",
       "      <td>1.309107</td>\n",
       "      <td>0.113066</td>\n",
       "    </tr>\n",
       "    <tr>\n",
       "      <th>4</th>\n",
       "      <td>2006-04-01 04:00:00.000 +0200</td>\n",
       "      <td>17</td>\n",
       "      <td>-0.354531</td>\n",
       "      <td>-0.332833</td>\n",
       "      <td>-0.362460</td>\n",
       "      <td>0.486192</td>\n",
       "      <td>0.034630</td>\n",
       "      <td>0.665655</td>\n",
       "      <td>1.309107</td>\n",
       "      <td>0.113919</td>\n",
       "    </tr>\n",
       "  </tbody>\n",
       "</table>\n",
       "</div>"
      ],
      "text/plain": [
       "                  Formatted Date  Summary  Precip Type  Temperature (C)  \\\n",
       "0  2006-04-01 00:00:00.000 +0200       19    -0.354531        -0.257951   \n",
       "1  2006-04-01 01:00:00.000 +0200       19    -0.354531        -0.270141   \n",
       "2  2006-04-01 02:00:00.000 +0200       17    -0.354531        -0.267819   \n",
       "3  2006-04-01 03:00:00.000 +0200       19    -0.354531        -0.381594   \n",
       "4  2006-04-01 04:00:00.000 +0200       17    -0.354531        -0.332833   \n",
       "\n",
       "   Apparent Temperature (C)  Humidity  Wind Speed (km/h)  \\\n",
       "0                 -0.324102  0.792748           0.478964   \n",
       "1                 -0.339134  0.639470           0.499902   \n",
       "2                 -0.138532  0.792748          -0.993620   \n",
       "3                 -0.458873  0.486192           0.476638   \n",
       "4                 -0.362460  0.486192           0.034630   \n",
       "\n",
       "   Wind Bearing (degrees)  Visibility (km)  Pressure (millibars)  \n",
       "0                0.591157         1.309107              0.102152  \n",
       "1                0.665655         1.309107              0.106415  \n",
       "2                0.153478         1.100806              0.109058  \n",
       "3                0.758778         1.309107              0.113066  \n",
       "4                0.665655         1.309107              0.113919  "
      ]
     },
     "execution_count": 12,
     "metadata": {},
     "output_type": "execute_result"
    }
   ],
   "source": [
    "from sklearn.preprocessing import StandardScaler\n",
    "\n",
    "scaler = StandardScaler()\n",
    "df[df.columns[2:]] = scaler.fit_transform(df[df.columns[2:]])\n",
    "df.head()"
   ]
  },
  {
   "cell_type": "markdown",
   "id": "128d2b3b",
   "metadata": {
    "papermill": {
     "duration": 0.033097,
     "end_time": "2022-01-26T13:58:34.648677",
     "exception": false,
     "start_time": "2022-01-26T13:58:34.615580",
     "status": "completed"
    },
    "tags": []
   },
   "source": [
    "# Feature Engineering\n",
    "\n",
    "Standardize Data. Extract day of year and hour of day"
   ]
  },
  {
   "cell_type": "code",
   "execution_count": 13,
   "id": "b115f9d3",
   "metadata": {
    "execution": {
     "iopub.execute_input": "2022-01-26T13:58:34.720303Z",
     "iopub.status.busy": "2022-01-26T13:58:34.719432Z",
     "iopub.status.idle": "2022-01-26T13:58:34.726046Z",
     "shell.execute_reply": "2022-01-26T13:58:34.726579Z",
     "shell.execute_reply.started": "2022-01-26T13:38:43.031820Z"
    },
    "papermill": {
     "duration": 0.044597,
     "end_time": "2022-01-26T13:58:34.726779",
     "exception": false,
     "start_time": "2022-01-26T13:58:34.682182",
     "status": "completed"
    },
    "tags": []
   },
   "outputs": [],
   "source": [
    "import numpy as np\n",
    "from datetime import datetime\n",
    "\n",
    "def discretize_date(current_date, t):\n",
    "    current_date = current_date[:-10]\n",
    "    cdate = datetime.strptime(current_date, '%Y-%m-%d %H:%M:%S')\n",
    "\n",
    "    if t == 'hour_sin':\n",
    "        return np.sin(2 * np.pi * cdate.hour/24.0)\n",
    "    if t == 'hour_cos':\n",
    "        return np.cos(2 * np.pi * cdate.hour/24.0)\n",
    "    if t == 'day_sin':\n",
    "        return np.sin(2 * np.pi * cdate.timetuple().tm_yday/365.0)\n",
    "    if t == 'day_cos':\n",
    "        return np.cos(2 * np.pi * cdate.timetuple().tm_yday/365.0)"
   ]
  },
  {
   "cell_type": "code",
   "execution_count": 14,
   "id": "fb2f4c3d",
   "metadata": {
    "execution": {
     "iopub.execute_input": "2022-01-26T13:58:34.803878Z",
     "iopub.status.busy": "2022-01-26T13:58:34.803157Z",
     "iopub.status.idle": "2022-01-26T13:58:42.374162Z",
     "shell.execute_reply": "2022-01-26T13:58:42.374710Z",
     "shell.execute_reply.started": "2022-01-26T13:38:44.513159Z"
    },
    "papermill": {
     "duration": 7.61429,
     "end_time": "2022-01-26T13:58:42.374977",
     "exception": false,
     "start_time": "2022-01-26T13:58:34.760687",
     "status": "completed"
    },
    "tags": []
   },
   "outputs": [],
   "source": [
    "date_types = ['hour_sin', 'hour_cos', 'day_sin', 'day_cos']\n",
    "for dt in date_types:\n",
    "    df[dt] = df['Formatted Date'].apply(lambda x : discretize_date(x, dt))\n",
    "df.drop(['Formatted Date'],axis=1,inplace=True)"
   ]
  },
  {
   "cell_type": "code",
   "execution_count": 15,
   "id": "1071b210",
   "metadata": {
    "execution": {
     "iopub.execute_input": "2022-01-26T13:58:42.448928Z",
     "iopub.status.busy": "2022-01-26T13:58:42.448238Z",
     "iopub.status.idle": "2022-01-26T13:58:42.530209Z",
     "shell.execute_reply": "2022-01-26T13:58:42.529466Z",
     "shell.execute_reply.started": "2022-01-26T13:38:49.513940Z"
    },
    "papermill": {
     "duration": 0.119929,
     "end_time": "2022-01-26T13:58:42.530367",
     "exception": false,
     "start_time": "2022-01-26T13:58:42.410438",
     "status": "completed"
    },
    "tags": []
   },
   "outputs": [
    {
     "data": {
      "text/html": [
       "<div>\n",
       "<style scoped>\n",
       "    .dataframe tbody tr th:only-of-type {\n",
       "        vertical-align: middle;\n",
       "    }\n",
       "\n",
       "    .dataframe tbody tr th {\n",
       "        vertical-align: top;\n",
       "    }\n",
       "\n",
       "    .dataframe thead th {\n",
       "        text-align: right;\n",
       "    }\n",
       "</style>\n",
       "<table border=\"1\" class=\"dataframe\">\n",
       "  <thead>\n",
       "    <tr style=\"text-align: right;\">\n",
       "      <th></th>\n",
       "      <th>Summary</th>\n",
       "      <th>Precip Type</th>\n",
       "      <th>Temperature (C)</th>\n",
       "      <th>Apparent Temperature (C)</th>\n",
       "      <th>Humidity</th>\n",
       "      <th>Wind Speed (km/h)</th>\n",
       "      <th>Wind Bearing (degrees)</th>\n",
       "      <th>Visibility (km)</th>\n",
       "      <th>Pressure (millibars)</th>\n",
       "      <th>hour_sin</th>\n",
       "      <th>hour_cos</th>\n",
       "      <th>day_sin</th>\n",
       "      <th>day_cos</th>\n",
       "    </tr>\n",
       "  </thead>\n",
       "  <tbody>\n",
       "    <tr>\n",
       "      <th>Summary</th>\n",
       "      <td>1.000000</td>\n",
       "      <td>-0.116821</td>\n",
       "      <td>0.145821</td>\n",
       "      <td>0.141956</td>\n",
       "      <td>-0.112823</td>\n",
       "      <td>0.003068</td>\n",
       "      <td>0.023057</td>\n",
       "      <td>0.135659</td>\n",
       "      <td>0.144449</td>\n",
       "      <td>-0.115476</td>\n",
       "      <td>-0.126093</td>\n",
       "      <td>0.042354</td>\n",
       "      <td>-0.097738</td>\n",
       "    </tr>\n",
       "    <tr>\n",
       "      <th>Precip Type</th>\n",
       "      <td>-0.116821</td>\n",
       "      <td>1.000000</td>\n",
       "      <td>-0.563503</td>\n",
       "      <td>-0.566058</td>\n",
       "      <td>0.232622</td>\n",
       "      <td>-0.067771</td>\n",
       "      <td>-0.042142</td>\n",
       "      <td>-0.316483</td>\n",
       "      <td>0.009271</td>\n",
       "      <td>0.080189</td>\n",
       "      <td>0.077198</td>\n",
       "      <td>0.115773</td>\n",
       "      <td>0.414884</td>\n",
       "    </tr>\n",
       "    <tr>\n",
       "      <th>Temperature (C)</th>\n",
       "      <td>0.145821</td>\n",
       "      <td>-0.563503</td>\n",
       "      <td>1.000000</td>\n",
       "      <td>0.992637</td>\n",
       "      <td>-0.632148</td>\n",
       "      <td>0.008304</td>\n",
       "      <td>0.029937</td>\n",
       "      <td>0.393719</td>\n",
       "      <td>-0.005253</td>\n",
       "      <td>-0.213442</td>\n",
       "      <td>-0.224880</td>\n",
       "      <td>-0.210074</td>\n",
       "      <td>-0.807055</td>\n",
       "    </tr>\n",
       "    <tr>\n",
       "      <th>Apparent Temperature (C)</th>\n",
       "      <td>0.141956</td>\n",
       "      <td>-0.566058</td>\n",
       "      <td>0.992637</td>\n",
       "      <td>1.000000</td>\n",
       "      <td>-0.602390</td>\n",
       "      <td>-0.057387</td>\n",
       "      <td>0.028951</td>\n",
       "      <td>0.382589</td>\n",
       "      <td>-0.000037</td>\n",
       "      <td>-0.201702</td>\n",
       "      <td>-0.206186</td>\n",
       "      <td>-0.215740</td>\n",
       "      <td>-0.815850</td>\n",
       "    </tr>\n",
       "    <tr>\n",
       "      <th>Humidity</th>\n",
       "      <td>-0.112823</td>\n",
       "      <td>0.232622</td>\n",
       "      <td>-0.632148</td>\n",
       "      <td>-0.602390</td>\n",
       "      <td>1.000000</td>\n",
       "      <td>-0.224569</td>\n",
       "      <td>0.000814</td>\n",
       "      <td>-0.370511</td>\n",
       "      <td>0.005375</td>\n",
       "      <td>0.366610</td>\n",
       "      <td>0.395050</td>\n",
       "      <td>-0.046786</td>\n",
       "      <td>0.392201</td>\n",
       "    </tr>\n",
       "    <tr>\n",
       "      <th>Wind Speed (km/h)</th>\n",
       "      <td>0.003068</td>\n",
       "      <td>-0.067771</td>\n",
       "      <td>0.008304</td>\n",
       "      <td>-0.057387</td>\n",
       "      <td>-0.224569</td>\n",
       "      <td>1.000000</td>\n",
       "      <td>0.104366</td>\n",
       "      <td>0.100801</td>\n",
       "      <td>-0.049453</td>\n",
       "      <td>-0.076933</td>\n",
       "      <td>-0.232838</td>\n",
       "      <td>0.134139</td>\n",
       "      <td>0.104584</td>\n",
       "    </tr>\n",
       "    <tr>\n",
       "      <th>Wind Bearing (degrees)</th>\n",
       "      <td>0.023057</td>\n",
       "      <td>-0.042142</td>\n",
       "      <td>0.029937</td>\n",
       "      <td>0.028951</td>\n",
       "      <td>0.000814</td>\n",
       "      <td>0.104366</td>\n",
       "      <td>1.000000</td>\n",
       "      <td>0.048900</td>\n",
       "      <td>-0.011629</td>\n",
       "      <td>-0.010008</td>\n",
       "      <td>0.006792</td>\n",
       "      <td>0.010820</td>\n",
       "      <td>-0.069343</td>\n",
       "    </tr>\n",
       "    <tr>\n",
       "      <th>Visibility (km)</th>\n",
       "      <td>0.135659</td>\n",
       "      <td>-0.316483</td>\n",
       "      <td>0.393719</td>\n",
       "      <td>0.382589</td>\n",
       "      <td>-0.370511</td>\n",
       "      <td>0.100801</td>\n",
       "      <td>0.048900</td>\n",
       "      <td>1.000000</td>\n",
       "      <td>0.061011</td>\n",
       "      <td>-0.059377</td>\n",
       "      <td>0.153076</td>\n",
       "      <td>0.035113</td>\n",
       "      <td>-0.433034</td>\n",
       "    </tr>\n",
       "    <tr>\n",
       "      <th>Pressure (millibars)</th>\n",
       "      <td>0.144449</td>\n",
       "      <td>0.009271</td>\n",
       "      <td>-0.005253</td>\n",
       "      <td>-0.000037</td>\n",
       "      <td>0.005375</td>\n",
       "      <td>-0.049453</td>\n",
       "      <td>-0.011629</td>\n",
       "      <td>0.061011</td>\n",
       "      <td>1.000000</td>\n",
       "      <td>0.003404</td>\n",
       "      <td>0.013111</td>\n",
       "      <td>0.006703</td>\n",
       "      <td>-0.013925</td>\n",
       "    </tr>\n",
       "    <tr>\n",
       "      <th>hour_sin</th>\n",
       "      <td>-0.115476</td>\n",
       "      <td>0.080189</td>\n",
       "      <td>-0.213442</td>\n",
       "      <td>-0.201702</td>\n",
       "      <td>0.366610</td>\n",
       "      <td>-0.076933</td>\n",
       "      <td>-0.010008</td>\n",
       "      <td>-0.059377</td>\n",
       "      <td>0.003404</td>\n",
       "      <td>1.000000</td>\n",
       "      <td>-0.000010</td>\n",
       "      <td>-0.000182</td>\n",
       "      <td>0.000096</td>\n",
       "    </tr>\n",
       "    <tr>\n",
       "      <th>hour_cos</th>\n",
       "      <td>-0.126093</td>\n",
       "      <td>0.077198</td>\n",
       "      <td>-0.224880</td>\n",
       "      <td>-0.206186</td>\n",
       "      <td>0.395050</td>\n",
       "      <td>-0.232838</td>\n",
       "      <td>0.006792</td>\n",
       "      <td>0.153076</td>\n",
       "      <td>0.013111</td>\n",
       "      <td>-0.000010</td>\n",
       "      <td>1.000000</td>\n",
       "      <td>-0.000587</td>\n",
       "      <td>0.000251</td>\n",
       "    </tr>\n",
       "    <tr>\n",
       "      <th>day_sin</th>\n",
       "      <td>0.042354</td>\n",
       "      <td>0.115773</td>\n",
       "      <td>-0.210074</td>\n",
       "      <td>-0.215740</td>\n",
       "      <td>-0.046786</td>\n",
       "      <td>0.134139</td>\n",
       "      <td>0.010820</td>\n",
       "      <td>0.035113</td>\n",
       "      <td>0.006703</td>\n",
       "      <td>-0.000182</td>\n",
       "      <td>-0.000587</td>\n",
       "      <td>1.000000</td>\n",
       "      <td>0.003922</td>\n",
       "    </tr>\n",
       "    <tr>\n",
       "      <th>day_cos</th>\n",
       "      <td>-0.097738</td>\n",
       "      <td>0.414884</td>\n",
       "      <td>-0.807055</td>\n",
       "      <td>-0.815850</td>\n",
       "      <td>0.392201</td>\n",
       "      <td>0.104584</td>\n",
       "      <td>-0.069343</td>\n",
       "      <td>-0.433034</td>\n",
       "      <td>-0.013925</td>\n",
       "      <td>0.000096</td>\n",
       "      <td>0.000251</td>\n",
       "      <td>0.003922</td>\n",
       "      <td>1.000000</td>\n",
       "    </tr>\n",
       "  </tbody>\n",
       "</table>\n",
       "</div>"
      ],
      "text/plain": [
       "                           Summary  Precip Type  Temperature (C)  \\\n",
       "Summary                   1.000000    -0.116821         0.145821   \n",
       "Precip Type              -0.116821     1.000000        -0.563503   \n",
       "Temperature (C)           0.145821    -0.563503         1.000000   \n",
       "Apparent Temperature (C)  0.141956    -0.566058         0.992637   \n",
       "Humidity                 -0.112823     0.232622        -0.632148   \n",
       "Wind Speed (km/h)         0.003068    -0.067771         0.008304   \n",
       "Wind Bearing (degrees)    0.023057    -0.042142         0.029937   \n",
       "Visibility (km)           0.135659    -0.316483         0.393719   \n",
       "Pressure (millibars)      0.144449     0.009271        -0.005253   \n",
       "hour_sin                 -0.115476     0.080189        -0.213442   \n",
       "hour_cos                 -0.126093     0.077198        -0.224880   \n",
       "day_sin                   0.042354     0.115773        -0.210074   \n",
       "day_cos                  -0.097738     0.414884        -0.807055   \n",
       "\n",
       "                          Apparent Temperature (C)  Humidity  \\\n",
       "Summary                                   0.141956 -0.112823   \n",
       "Precip Type                              -0.566058  0.232622   \n",
       "Temperature (C)                           0.992637 -0.632148   \n",
       "Apparent Temperature (C)                  1.000000 -0.602390   \n",
       "Humidity                                 -0.602390  1.000000   \n",
       "Wind Speed (km/h)                        -0.057387 -0.224569   \n",
       "Wind Bearing (degrees)                    0.028951  0.000814   \n",
       "Visibility (km)                           0.382589 -0.370511   \n",
       "Pressure (millibars)                     -0.000037  0.005375   \n",
       "hour_sin                                 -0.201702  0.366610   \n",
       "hour_cos                                 -0.206186  0.395050   \n",
       "day_sin                                  -0.215740 -0.046786   \n",
       "day_cos                                  -0.815850  0.392201   \n",
       "\n",
       "                          Wind Speed (km/h)  Wind Bearing (degrees)  \\\n",
       "Summary                            0.003068                0.023057   \n",
       "Precip Type                       -0.067771               -0.042142   \n",
       "Temperature (C)                    0.008304                0.029937   \n",
       "Apparent Temperature (C)          -0.057387                0.028951   \n",
       "Humidity                          -0.224569                0.000814   \n",
       "Wind Speed (km/h)                  1.000000                0.104366   \n",
       "Wind Bearing (degrees)             0.104366                1.000000   \n",
       "Visibility (km)                    0.100801                0.048900   \n",
       "Pressure (millibars)              -0.049453               -0.011629   \n",
       "hour_sin                          -0.076933               -0.010008   \n",
       "hour_cos                          -0.232838                0.006792   \n",
       "day_sin                            0.134139                0.010820   \n",
       "day_cos                            0.104584               -0.069343   \n",
       "\n",
       "                          Visibility (km)  Pressure (millibars)  hour_sin  \\\n",
       "Summary                          0.135659              0.144449 -0.115476   \n",
       "Precip Type                     -0.316483              0.009271  0.080189   \n",
       "Temperature (C)                  0.393719             -0.005253 -0.213442   \n",
       "Apparent Temperature (C)         0.382589             -0.000037 -0.201702   \n",
       "Humidity                        -0.370511              0.005375  0.366610   \n",
       "Wind Speed (km/h)                0.100801             -0.049453 -0.076933   \n",
       "Wind Bearing (degrees)           0.048900             -0.011629 -0.010008   \n",
       "Visibility (km)                  1.000000              0.061011 -0.059377   \n",
       "Pressure (millibars)             0.061011              1.000000  0.003404   \n",
       "hour_sin                        -0.059377              0.003404  1.000000   \n",
       "hour_cos                         0.153076              0.013111 -0.000010   \n",
       "day_sin                          0.035113              0.006703 -0.000182   \n",
       "day_cos                         -0.433034             -0.013925  0.000096   \n",
       "\n",
       "                          hour_cos   day_sin   day_cos  \n",
       "Summary                  -0.126093  0.042354 -0.097738  \n",
       "Precip Type               0.077198  0.115773  0.414884  \n",
       "Temperature (C)          -0.224880 -0.210074 -0.807055  \n",
       "Apparent Temperature (C) -0.206186 -0.215740 -0.815850  \n",
       "Humidity                  0.395050 -0.046786  0.392201  \n",
       "Wind Speed (km/h)        -0.232838  0.134139  0.104584  \n",
       "Wind Bearing (degrees)    0.006792  0.010820 -0.069343  \n",
       "Visibility (km)           0.153076  0.035113 -0.433034  \n",
       "Pressure (millibars)      0.013111  0.006703 -0.013925  \n",
       "hour_sin                 -0.000010 -0.000182  0.000096  \n",
       "hour_cos                  1.000000 -0.000587  0.000251  \n",
       "day_sin                  -0.000587  1.000000  0.003922  \n",
       "day_cos                   0.000251  0.003922  1.000000  "
      ]
     },
     "execution_count": 15,
     "metadata": {},
     "output_type": "execute_result"
    }
   ],
   "source": [
    "df.corr()    # checking correlation to drop unnecessary variable"
   ]
  },
  {
   "cell_type": "markdown",
   "id": "4c4ebfa9",
   "metadata": {
    "papermill": {
     "duration": 0.034113,
     "end_time": "2022-01-26T13:58:42.599398",
     "exception": false,
     "start_time": "2022-01-26T13:58:42.565285",
     "status": "completed"
    },
    "tags": []
   },
   "source": [
    "Apparent Temperature and Temperature are highly correlated (correlation almost equal to 1). So, we can drop one of them."
   ]
  },
  {
   "cell_type": "code",
   "execution_count": 16,
   "id": "9d2b3171",
   "metadata": {
    "execution": {
     "iopub.execute_input": "2022-01-26T13:58:42.679146Z",
     "iopub.status.busy": "2022-01-26T13:58:42.678449Z",
     "iopub.status.idle": "2022-01-26T13:58:42.680138Z",
     "shell.execute_reply": "2022-01-26T13:58:42.680734Z",
     "shell.execute_reply.started": "2022-01-26T13:38:55.364416Z"
    },
    "papermill": {
     "duration": 0.047272,
     "end_time": "2022-01-26T13:58:42.680932",
     "exception": false,
     "start_time": "2022-01-26T13:58:42.633660",
     "status": "completed"
    },
    "tags": []
   },
   "outputs": [],
   "source": [
    "df.drop(['Apparent Temperature (C)'],axis=1,inplace=True)"
   ]
  },
  {
   "cell_type": "markdown",
   "id": "c7243b6e",
   "metadata": {
    "papermill": {
     "duration": 0.098616,
     "end_time": "2022-01-26T13:58:42.813548",
     "exception": false,
     "start_time": "2022-01-26T13:58:42.714932",
     "status": "completed"
    },
    "tags": []
   },
   "source": [
    "# Train Test Splitting"
   ]
  },
  {
   "cell_type": "code",
   "execution_count": 17,
   "id": "edd1171d",
   "metadata": {
    "execution": {
     "iopub.execute_input": "2022-01-26T13:58:42.906279Z",
     "iopub.status.busy": "2022-01-26T13:58:42.905080Z",
     "iopub.status.idle": "2022-01-26T13:58:42.910373Z",
     "shell.execute_reply": "2022-01-26T13:58:42.909718Z",
     "shell.execute_reply.started": "2022-01-26T13:38:56.814627Z"
    },
    "papermill": {
     "duration": 0.054337,
     "end_time": "2022-01-26T13:58:42.910519",
     "exception": false,
     "start_time": "2022-01-26T13:58:42.856182",
     "status": "completed"
    },
    "tags": []
   },
   "outputs": [],
   "source": [
    "y=df.iloc[:,0] \n",
    "X = df.iloc[:,1:]  "
   ]
  },
  {
   "cell_type": "code",
   "execution_count": 18,
   "id": "0851ed7c",
   "metadata": {
    "execution": {
     "iopub.execute_input": "2022-01-26T13:58:42.995003Z",
     "iopub.status.busy": "2022-01-26T13:58:42.994265Z",
     "iopub.status.idle": "2022-01-26T13:58:43.009749Z",
     "shell.execute_reply": "2022-01-26T13:58:43.009152Z",
     "shell.execute_reply.started": "2022-01-26T13:38:57.274874Z"
    },
    "papermill": {
     "duration": 0.06402,
     "end_time": "2022-01-26T13:58:43.009911",
     "exception": false,
     "start_time": "2022-01-26T13:58:42.945891",
     "status": "completed"
    },
    "tags": []
   },
   "outputs": [
    {
     "data": {
      "text/html": [
       "<div>\n",
       "<style scoped>\n",
       "    .dataframe tbody tr th:only-of-type {\n",
       "        vertical-align: middle;\n",
       "    }\n",
       "\n",
       "    .dataframe tbody tr th {\n",
       "        vertical-align: top;\n",
       "    }\n",
       "\n",
       "    .dataframe thead th {\n",
       "        text-align: right;\n",
       "    }\n",
       "</style>\n",
       "<table border=\"1\" class=\"dataframe\">\n",
       "  <thead>\n",
       "    <tr style=\"text-align: right;\">\n",
       "      <th></th>\n",
       "      <th>Precip Type</th>\n",
       "      <th>Temperature (C)</th>\n",
       "      <th>Humidity</th>\n",
       "      <th>Wind Speed (km/h)</th>\n",
       "      <th>Wind Bearing (degrees)</th>\n",
       "      <th>Visibility (km)</th>\n",
       "      <th>Pressure (millibars)</th>\n",
       "      <th>hour_sin</th>\n",
       "      <th>hour_cos</th>\n",
       "      <th>day_sin</th>\n",
       "      <th>day_cos</th>\n",
       "    </tr>\n",
       "  </thead>\n",
       "  <tbody>\n",
       "    <tr>\n",
       "      <th>0</th>\n",
       "      <td>-0.354531</td>\n",
       "      <td>-0.257951</td>\n",
       "      <td>0.792748</td>\n",
       "      <td>0.478964</td>\n",
       "      <td>0.591157</td>\n",
       "      <td>1.309107</td>\n",
       "      <td>0.102152</td>\n",
       "      <td>0.000000</td>\n",
       "      <td>1.000000</td>\n",
       "      <td>0.999991</td>\n",
       "      <td>0.004304</td>\n",
       "    </tr>\n",
       "    <tr>\n",
       "      <th>1</th>\n",
       "      <td>-0.354531</td>\n",
       "      <td>-0.270141</td>\n",
       "      <td>0.639470</td>\n",
       "      <td>0.499902</td>\n",
       "      <td>0.665655</td>\n",
       "      <td>1.309107</td>\n",
       "      <td>0.106415</td>\n",
       "      <td>0.258819</td>\n",
       "      <td>0.965926</td>\n",
       "      <td>0.999991</td>\n",
       "      <td>0.004304</td>\n",
       "    </tr>\n",
       "    <tr>\n",
       "      <th>2</th>\n",
       "      <td>-0.354531</td>\n",
       "      <td>-0.267819</td>\n",
       "      <td>0.792748</td>\n",
       "      <td>-0.993620</td>\n",
       "      <td>0.153478</td>\n",
       "      <td>1.100806</td>\n",
       "      <td>0.109058</td>\n",
       "      <td>0.500000</td>\n",
       "      <td>0.866025</td>\n",
       "      <td>0.999991</td>\n",
       "      <td>0.004304</td>\n",
       "    </tr>\n",
       "    <tr>\n",
       "      <th>3</th>\n",
       "      <td>-0.354531</td>\n",
       "      <td>-0.381594</td>\n",
       "      <td>0.486192</td>\n",
       "      <td>0.476638</td>\n",
       "      <td>0.758778</td>\n",
       "      <td>1.309107</td>\n",
       "      <td>0.113066</td>\n",
       "      <td>0.707107</td>\n",
       "      <td>0.707107</td>\n",
       "      <td>0.999991</td>\n",
       "      <td>0.004304</td>\n",
       "    </tr>\n",
       "    <tr>\n",
       "      <th>4</th>\n",
       "      <td>-0.354531</td>\n",
       "      <td>-0.332833</td>\n",
       "      <td>0.486192</td>\n",
       "      <td>0.034630</td>\n",
       "      <td>0.665655</td>\n",
       "      <td>1.309107</td>\n",
       "      <td>0.113919</td>\n",
       "      <td>0.866025</td>\n",
       "      <td>0.500000</td>\n",
       "      <td>0.999991</td>\n",
       "      <td>0.004304</td>\n",
       "    </tr>\n",
       "    <tr>\n",
       "      <th>...</th>\n",
       "      <td>...</td>\n",
       "      <td>...</td>\n",
       "      <td>...</td>\n",
       "      <td>...</td>\n",
       "      <td>...</td>\n",
       "      <td>...</td>\n",
       "      <td>...</td>\n",
       "      <td>...</td>\n",
       "      <td>...</td>\n",
       "      <td>...</td>\n",
       "      <td>...</td>\n",
       "    </tr>\n",
       "    <tr>\n",
       "      <th>96448</th>\n",
       "      <td>-0.354531</td>\n",
       "      <td>1.470719</td>\n",
       "      <td>-1.557511</td>\n",
       "      <td>0.027651</td>\n",
       "      <td>-1.457551</td>\n",
       "      <td>1.374684</td>\n",
       "      <td>0.095586</td>\n",
       "      <td>-0.965926</td>\n",
       "      <td>0.258819</td>\n",
       "      <td>-0.936881</td>\n",
       "      <td>-0.349647</td>\n",
       "    </tr>\n",
       "    <tr>\n",
       "      <th>96449</th>\n",
       "      <td>-0.354531</td>\n",
       "      <td>1.320955</td>\n",
       "      <td>-1.302048</td>\n",
       "      <td>-0.102625</td>\n",
       "      <td>-1.559986</td>\n",
       "      <td>1.243531</td>\n",
       "      <td>0.102407</td>\n",
       "      <td>-0.866025</td>\n",
       "      <td>0.500000</td>\n",
       "      <td>-0.936881</td>\n",
       "      <td>-0.349647</td>\n",
       "    </tr>\n",
       "    <tr>\n",
       "      <th>96450</th>\n",
       "      <td>-0.354531</td>\n",
       "      <td>1.055095</td>\n",
       "      <td>-0.893308</td>\n",
       "      <td>-0.263144</td>\n",
       "      <td>-1.466863</td>\n",
       "      <td>1.374684</td>\n",
       "      <td>0.106671</td>\n",
       "      <td>-0.707107</td>\n",
       "      <td>0.707107</td>\n",
       "      <td>-0.936881</td>\n",
       "      <td>-0.349647</td>\n",
       "    </tr>\n",
       "    <tr>\n",
       "      <th>96451</th>\n",
       "      <td>-0.354531</td>\n",
       "      <td>1.001110</td>\n",
       "      <td>-0.688937</td>\n",
       "      <td>-0.039813</td>\n",
       "      <td>-1.559986</td>\n",
       "      <td>1.374684</td>\n",
       "      <td>0.109144</td>\n",
       "      <td>-0.500000</td>\n",
       "      <td>0.866025</td>\n",
       "      <td>-0.936881</td>\n",
       "      <td>-0.349647</td>\n",
       "    </tr>\n",
       "    <tr>\n",
       "      <th>96452</th>\n",
       "      <td>-0.354531</td>\n",
       "      <td>0.887917</td>\n",
       "      <td>-0.637845</td>\n",
       "      <td>-0.712131</td>\n",
       "      <td>-1.383052</td>\n",
       "      <td>1.235816</td>\n",
       "      <td>0.110934</td>\n",
       "      <td>-0.258819</td>\n",
       "      <td>0.965926</td>\n",
       "      <td>-0.936881</td>\n",
       "      <td>-0.349647</td>\n",
       "    </tr>\n",
       "  </tbody>\n",
       "</table>\n",
       "<p>95936 rows × 11 columns</p>\n",
       "</div>"
      ],
      "text/plain": [
       "       Precip Type  Temperature (C)  Humidity  Wind Speed (km/h)  \\\n",
       "0        -0.354531        -0.257951  0.792748           0.478964   \n",
       "1        -0.354531        -0.270141  0.639470           0.499902   \n",
       "2        -0.354531        -0.267819  0.792748          -0.993620   \n",
       "3        -0.354531        -0.381594  0.486192           0.476638   \n",
       "4        -0.354531        -0.332833  0.486192           0.034630   \n",
       "...            ...              ...       ...                ...   \n",
       "96448    -0.354531         1.470719 -1.557511           0.027651   \n",
       "96449    -0.354531         1.320955 -1.302048          -0.102625   \n",
       "96450    -0.354531         1.055095 -0.893308          -0.263144   \n",
       "96451    -0.354531         1.001110 -0.688937          -0.039813   \n",
       "96452    -0.354531         0.887917 -0.637845          -0.712131   \n",
       "\n",
       "       Wind Bearing (degrees)  Visibility (km)  Pressure (millibars)  \\\n",
       "0                    0.591157         1.309107              0.102152   \n",
       "1                    0.665655         1.309107              0.106415   \n",
       "2                    0.153478         1.100806              0.109058   \n",
       "3                    0.758778         1.309107              0.113066   \n",
       "4                    0.665655         1.309107              0.113919   \n",
       "...                       ...              ...                   ...   \n",
       "96448               -1.457551         1.374684              0.095586   \n",
       "96449               -1.559986         1.243531              0.102407   \n",
       "96450               -1.466863         1.374684              0.106671   \n",
       "96451               -1.559986         1.374684              0.109144   \n",
       "96452               -1.383052         1.235816              0.110934   \n",
       "\n",
       "       hour_sin  hour_cos   day_sin   day_cos  \n",
       "0      0.000000  1.000000  0.999991  0.004304  \n",
       "1      0.258819  0.965926  0.999991  0.004304  \n",
       "2      0.500000  0.866025  0.999991  0.004304  \n",
       "3      0.707107  0.707107  0.999991  0.004304  \n",
       "4      0.866025  0.500000  0.999991  0.004304  \n",
       "...         ...       ...       ...       ...  \n",
       "96448 -0.965926  0.258819 -0.936881 -0.349647  \n",
       "96449 -0.866025  0.500000 -0.936881 -0.349647  \n",
       "96450 -0.707107  0.707107 -0.936881 -0.349647  \n",
       "96451 -0.500000  0.866025 -0.936881 -0.349647  \n",
       "96452 -0.258819  0.965926 -0.936881 -0.349647  \n",
       "\n",
       "[95936 rows x 11 columns]"
      ]
     },
     "execution_count": 18,
     "metadata": {},
     "output_type": "execute_result"
    }
   ],
   "source": [
    "X"
   ]
  },
  {
   "cell_type": "code",
   "execution_count": 19,
   "id": "17703717",
   "metadata": {
    "execution": {
     "iopub.execute_input": "2022-01-26T13:58:43.086193Z",
     "iopub.status.busy": "2022-01-26T13:58:43.085470Z",
     "iopub.status.idle": "2022-01-26T13:58:43.171685Z",
     "shell.execute_reply": "2022-01-26T13:58:43.172297Z",
     "shell.execute_reply.started": "2022-01-26T13:39:02.985414Z"
    },
    "papermill": {
     "duration": 0.12712,
     "end_time": "2022-01-26T13:58:43.172485",
     "exception": false,
     "start_time": "2022-01-26T13:58:43.045365",
     "status": "completed"
    },
    "tags": []
   },
   "outputs": [],
   "source": [
    "from sklearn.model_selection import train_test_split\n",
    "\n",
    "X_train,X_test,y_train,y_test = train_test_split(X,y,test_size=0.3,random_state=1)"
   ]
  },
  {
   "cell_type": "code",
   "execution_count": 20,
   "id": "902f8d90",
   "metadata": {
    "execution": {
     "iopub.execute_input": "2022-01-26T13:58:43.247331Z",
     "iopub.status.busy": "2022-01-26T13:58:43.246644Z",
     "iopub.status.idle": "2022-01-26T13:58:43.252550Z",
     "shell.execute_reply": "2022-01-26T13:58:43.253141Z",
     "shell.execute_reply.started": "2022-01-26T13:39:03.575838Z"
    },
    "papermill": {
     "duration": 0.045375,
     "end_time": "2022-01-26T13:58:43.253326",
     "exception": false,
     "start_time": "2022-01-26T13:58:43.207951",
     "status": "completed"
    },
    "tags": []
   },
   "outputs": [
    {
     "data": {
      "text/plain": [
       "(67155, 11)"
      ]
     },
     "execution_count": 20,
     "metadata": {},
     "output_type": "execute_result"
    }
   ],
   "source": [
    "X_train.shape"
   ]
  },
  {
   "cell_type": "code",
   "execution_count": 21,
   "id": "4e552217",
   "metadata": {
    "execution": {
     "iopub.execute_input": "2022-01-26T13:58:43.327562Z",
     "iopub.status.busy": "2022-01-26T13:58:43.326936Z",
     "iopub.status.idle": "2022-01-26T13:58:43.333868Z",
     "shell.execute_reply": "2022-01-26T13:58:43.333264Z",
     "shell.execute_reply.started": "2022-01-26T13:39:04.033987Z"
    },
    "papermill": {
     "duration": 0.045287,
     "end_time": "2022-01-26T13:58:43.334001",
     "exception": false,
     "start_time": "2022-01-26T13:58:43.288714",
     "status": "completed"
    },
    "tags": []
   },
   "outputs": [
    {
     "data": {
      "text/plain": [
       "(28781, 11)"
      ]
     },
     "execution_count": 21,
     "metadata": {},
     "output_type": "execute_result"
    }
   ],
   "source": [
    "X_test.shape"
   ]
  },
  {
   "cell_type": "markdown",
   "id": "dd5dc297",
   "metadata": {
    "papermill": {
     "duration": 0.035583,
     "end_time": "2022-01-26T13:58:43.404990",
     "exception": false,
     "start_time": "2022-01-26T13:58:43.369407",
     "status": "completed"
    },
    "tags": []
   },
   "source": [
    "# Training the Model"
   ]
  },
  {
   "cell_type": "code",
   "execution_count": 22,
   "id": "c7f900c2",
   "metadata": {
    "execution": {
     "iopub.execute_input": "2022-01-26T13:58:43.482606Z",
     "iopub.status.busy": "2022-01-26T13:58:43.481963Z",
     "iopub.status.idle": "2022-01-26T13:59:13.049314Z",
     "shell.execute_reply": "2022-01-26T13:59:13.048518Z",
     "shell.execute_reply.started": "2022-01-26T13:39:04.899533Z"
    },
    "papermill": {
     "duration": 29.608835,
     "end_time": "2022-01-26T13:59:13.049516",
     "exception": false,
     "start_time": "2022-01-26T13:58:43.440681",
     "status": "completed"
    },
    "tags": []
   },
   "outputs": [],
   "source": [
    "from sklearn.ensemble import RandomForestClassifier\n",
    "\n",
    "model = RandomForestClassifier(max_depth=32,n_estimators=120,random_state=1)\n",
    "model.fit(X_train,y_train)\n",
    "y_pred = model.predict(X_test)"
   ]
  },
  {
   "cell_type": "markdown",
   "id": "a99259ba",
   "metadata": {
    "papermill": {
     "duration": 0.038115,
     "end_time": "2022-01-26T13:59:13.125327",
     "exception": false,
     "start_time": "2022-01-26T13:59:13.087212",
     "status": "completed"
    },
    "tags": []
   },
   "source": [
    "# Measuring Accuracy"
   ]
  },
  {
   "cell_type": "code",
   "execution_count": 23,
   "id": "bc9dffe9",
   "metadata": {
    "execution": {
     "iopub.execute_input": "2022-01-26T13:59:13.205255Z",
     "iopub.status.busy": "2022-01-26T13:59:13.204201Z",
     "iopub.status.idle": "2022-01-26T13:59:13.210408Z",
     "shell.execute_reply": "2022-01-26T13:59:13.210925Z",
     "shell.execute_reply.started": "2022-01-26T13:39:31.697042Z"
    },
    "papermill": {
     "duration": 0.048468,
     "end_time": "2022-01-26T13:59:13.211130",
     "exception": false,
     "start_time": "2022-01-26T13:59:13.162662",
     "status": "completed"
    },
    "tags": []
   },
   "outputs": [
    {
     "data": {
      "text/plain": [
       "0.6695389319342622"
      ]
     },
     "execution_count": 23,
     "metadata": {},
     "output_type": "execute_result"
    }
   ],
   "source": [
    "from sklearn.metrics import accuracy_score\n",
    "accuracy_score(y_test, y_pred)"
   ]
  },
  {
   "cell_type": "markdown",
   "id": "8e571233",
   "metadata": {
    "papermill": {
     "duration": 0.036236,
     "end_time": "2022-01-26T13:59:13.284827",
     "exception": false,
     "start_time": "2022-01-26T13:59:13.248591",
     "status": "completed"
    },
    "tags": []
   },
   "source": [
    "Train the same model without the datetime feature"
   ]
  },
  {
   "cell_type": "code",
   "execution_count": 24,
   "id": "dd00eccc",
   "metadata": {
    "execution": {
     "iopub.execute_input": "2022-01-26T13:59:13.363072Z",
     "iopub.status.busy": "2022-01-26T13:59:13.362380Z",
     "iopub.status.idle": "2022-01-26T13:59:37.459511Z",
     "shell.execute_reply": "2022-01-26T13:59:37.458904Z",
     "shell.execute_reply.started": "2022-01-26T13:39:31.707436Z"
    },
    "papermill": {
     "duration": 24.137052,
     "end_time": "2022-01-26T13:59:37.459672",
     "exception": false,
     "start_time": "2022-01-26T13:59:13.322620",
     "status": "completed"
    },
    "tags": []
   },
   "outputs": [],
   "source": [
    "model = RandomForestClassifier(max_depth=32,n_estimators=120,random_state=1)\n",
    "model.fit(X_train[X_train.columns[:-4]],y_train)\n",
    "y_pred = model.predict(X_test[X_test.columns[:-4]])"
   ]
  },
  {
   "cell_type": "code",
   "execution_count": 25,
   "id": "8493fa25",
   "metadata": {
    "execution": {
     "iopub.execute_input": "2022-01-26T13:59:37.537901Z",
     "iopub.status.busy": "2022-01-26T13:59:37.536905Z",
     "iopub.status.idle": "2022-01-26T13:59:37.543002Z",
     "shell.execute_reply": "2022-01-26T13:59:37.543589Z",
     "shell.execute_reply.started": "2022-01-26T13:39:54.340892Z"
    },
    "papermill": {
     "duration": 0.047657,
     "end_time": "2022-01-26T13:59:37.543750",
     "exception": false,
     "start_time": "2022-01-26T13:59:37.496093",
     "status": "completed"
    },
    "tags": []
   },
   "outputs": [
    {
     "data": {
      "text/plain": [
       "0.5827108161634411"
      ]
     },
     "execution_count": 25,
     "metadata": {},
     "output_type": "execute_result"
    }
   ],
   "source": [
    "accuracy_score(y_test, y_pred)"
   ]
  },
  {
   "cell_type": "code",
   "execution_count": null,
   "id": "06b67442",
   "metadata": {
    "papermill": {
     "duration": 0.037332,
     "end_time": "2022-01-26T13:59:37.617569",
     "exception": false,
     "start_time": "2022-01-26T13:59:37.580237",
     "status": "completed"
    },
    "tags": []
   },
   "outputs": [],
   "source": []
  },
  {
   "cell_type": "code",
   "execution_count": null,
   "id": "74eeac40",
   "metadata": {
    "papermill": {
     "duration": 0.037141,
     "end_time": "2022-01-26T13:59:37.691443",
     "exception": false,
     "start_time": "2022-01-26T13:59:37.654302",
     "status": "completed"
    },
    "tags": []
   },
   "outputs": [],
   "source": []
  }
 ],
 "metadata": {
  "kernelspec": {
   "display_name": "Python 3",
   "language": "python",
   "name": "python3"
  },
  "language_info": {
   "codemirror_mode": {
    "name": "ipython",
    "version": 3
   },
   "file_extension": ".py",
   "mimetype": "text/x-python",
   "name": "python",
   "nbconvert_exporter": "python",
   "pygments_lexer": "ipython3",
   "version": "3.7.10"
  },
  "papermill": {
   "default_parameters": {},
   "duration": 76.846565,
   "end_time": "2022-01-26T13:59:38.642525",
   "environment_variables": {},
   "exception": null,
   "input_path": "__notebook__.ipynb",
   "output_path": "__notebook__.ipynb",
   "parameters": {},
   "start_time": "2022-01-26T13:58:21.795960",
   "version": "2.3.3"
  }
 },
 "nbformat": 4,
 "nbformat_minor": 5
}
